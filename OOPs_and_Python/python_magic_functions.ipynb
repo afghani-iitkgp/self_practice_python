{
 "cells": [
  {
   "cell_type": "code",
   "execution_count": null,
   "metadata": {},
   "outputs": [],
   "source": []
  },
  {
   "cell_type": "markdown",
   "metadata": {},
   "source": [
    "## Python __iter__() and __next__() | Converting an object into an iterator\n",
    "'''\n",
    "The __iter__() function returns an iterator object that goes through each element of the given object. The next element can be accessed through __next__() function. In the case of callable object and sentinel value, the iteration is done until the value is found or the end of elements reached. In any case, the original object is not modified.\n",
    "'''\n"
   ]
  },
  {
   "cell_type": "code",
   "execution_count": 1,
   "metadata": {},
   "outputs": [],
   "source": [
    "listA = ['a','e','i','o','u']\n"
   ]
  },
  {
   "cell_type": "code",
   "execution_count": 3,
   "metadata": {},
   "outputs": [
    {
     "name": "stdout",
     "output_type": "stream",
     "text": [
      "a\n",
      "e\n",
      "i\n",
      "o\n",
      "u\n",
      "ended\n",
      "hola\n"
     ]
    }
   ],
   "source": [
    "iter_listA = iter(listA)\n",
    "\n",
    "try:\n",
    "    print(next(iter_listA))\n",
    "    print(next(iter_listA))\n",
    "    print(next(iter_listA))\n",
    "    print(next(iter_listA))\n",
    "    print(next(iter_listA))\n",
    "    print(next(iter_listA))\n",
    "except StopIteration:\n",
    "    print(\"ended\")\n",
    "finally:\n",
    "    print(\"hola\")\n",
    "    "
   ]
  },
  {
   "cell_type": "code",
   "execution_count": 6,
   "metadata": {},
   "outputs": [
    {
     "name": "stdout",
     "output_type": "stream",
     "text": [
      "Cat\n",
      "Cat\n",
      "Cat\n",
      "Cat\n",
      "Cat\n",
      "Cat\n",
      "Cat\n",
      "Cat\n"
     ]
    }
   ],
   "source": [
    "listB = ['Cat', 'Bat', 'Sat', 'Mat']\n",
    " \n",
    " \n",
    "iter_listB = listB.__iter__()\n",
    " \n",
    "try:\n",
    "    print(iter_listB.__next__())\n",
    "    print(iter_listB.__next__())\n",
    "    print(iter_listB.__next__())\n",
    "    print(iter_listB.__next__())\n",
    "    print(iter_listB.__next__()) #StopIteration error\n",
    "except:\n",
    "    print(\" \\nThrowing 'StopIterationError'\",\n",
    "                     \"I cannot count more.\")"
   ]
  },
  {
   "cell_type": "code",
   "execution_count": null,
   "metadata": {},
   "outputs": [],
   "source": [
    "## Code #4 : User-defined objects (using OOPS) \n",
    "\n",
    "# Python code showing use of iter() using OOPs\n",
    "\n",
    "class Counter:\n",
    "    \n",
    "    def __init__(self, start, end) -> None:\n",
    "        self.num = start \n",
    "        self.end = end \n",
    "\n",
    "    def __iter__(self):\n",
    "        return self\n",
    "\n",
    "    def __next__(self):\n",
    "        if self.num > self.end:\n",
    "            raise StopIteration\n",
    "        else:\n",
    "            self.num += 1\n",
    "            return self.num - 1\n",
    "        \n",
    "    "
   ]
  },
  {
   "cell_type": "code",
   "execution_count": null,
   "metadata": {},
   "outputs": [],
   "source": []
  },
  {
   "cell_type": "code",
   "execution_count": null,
   "metadata": {},
   "outputs": [],
   "source": []
  }
 ],
 "metadata": {
  "kernelspec": {
   "display_name": "base",
   "language": "python",
   "name": "python3"
  },
  "language_info": {
   "codemirror_mode": {
    "name": "ipython",
    "version": 3
   },
   "file_extension": ".py",
   "mimetype": "text/x-python",
   "name": "python",
   "nbconvert_exporter": "python",
   "pygments_lexer": "ipython3",
   "version": "3.10.13"
  },
  "orig_nbformat": 4
 },
 "nbformat": 4,
 "nbformat_minor": 2
}
